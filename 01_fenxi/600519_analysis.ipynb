{
 "cells": [
  {
   "cell_type": "code",
   "execution_count": 1,
   "metadata": {
    "collapsed": true
   },
   "outputs": [],
   "source": [
    "# 导入所需要的库\n",
    "import pandas as pd\n",
    "import matplotlib.pyplot as plt\n",
    "import numpy as np"
   ]
  },
  {
   "cell_type": "code",
   "execution_count": 2,
   "metadata": {
    "collapsed": true
   },
   "outputs": [],
   "source": [
    "# 股票代号\n",
    "stock_0 = 'SH600519' #贵州茅台\n",
    "\n",
    "# 输入年份（如年报数据只到2016年，则输入2017）\n",
    "year = 2017"
   ]
  },
  {
   "cell_type": "code",
   "execution_count": 9,
   "metadata": {
    "collapsed": true
   },
   "outputs": [],
   "source": [
    "# 读取csv文件，转化为DataFrame格式\n",
    "def get_all_data(stock_id):\n",
    "    # 读取利润表数据\n",
    "    lrb = pd.read_csv(\n",
    "        r'data/%s_lrb.csv' % (stock_id),\n",
    "        encoding='utf-8',\n",
    "        header=0,\n",
    "        index_col=None)\n",
    "\n",
    "    list_lrb = []\n",
    "    for i in lrb['报表期截止日']:\n",
    "        str_i = str(i)\n",
    "        # i_ = i[:4] + '-' + i[4:6] + '-' + i[6:8]\n",
    "        list_lrb.append(str(i))\n",
    "    list_lrb_0 = []\n",
    "    for i in list_lrb:\n",
    "        i_ = i[:4] + '-' + i[4:6] + '-' + i[6:8]\n",
    "        list_lrb_0.append(i_)\n",
    "\n",
    "    lrb['报告时间'] = [pd.to_datetime(t) for t in list_lrb_0]\n",
    "\n",
    "    lrb.index = lrb['报告时间']\n",
    "\n",
    "    data = lrb[::-1]\n",
    "    return data"
   ]
  },
  {
   "cell_type": "code",
   "execution_count": 11,
   "metadata": {
    "collapsed": true
   },
   "outputs": [],
   "source": [
    "# 根据月份筛选数据，如12月为年报数据\n",
    "def get_data_month(data, month):\n",
    "    data_month = data[data.index.month == month]\n",
    "    return data_month"
   ]
  },
  {
   "cell_type": "code",
   "execution_count": 13,
   "metadata": {
    "collapsed": true
   },
   "outputs": [],
   "source": [
    "# 筛选、计算需要的数据\n",
    "def get_data_ratio(data):\n",
    "    result = pd.DataFrame()\n",
    "    \n",
    "    result['营业收入'] = data['营业收入']\n",
    "    result['归母净利润'] = data['归属于母公司所有者的净利润']\n",
    "    result['营业利润'] = data['营业利润']\n",
    "      \n",
    "    result['营业利润率'] = data['营业利润'] / data['营业收入']\n",
    "    result['净利率'] = data['归属于母公司所有者的净利润'] / data['营业收入']\n",
    "    result['毛利率'] = (data['营业收入'] - data['营业成本']) / data['营业收入']\n",
    "    \n",
    "    result.index = data['报告时间']\n",
    "    return result"
   ]
  },
  {
   "cell_type": "code",
   "execution_count": 17,
   "metadata": {
    "collapsed": true
   },
   "outputs": [],
   "source": [
    "# 根据数据进行作图\n",
    "def data_plot(data, ratio, legend='贵州茅台', kind='bar'):\n",
    "    l_0 = len(data)\n",
    "    s_0 = list(range(l_0))\n",
    "    x_0 = np.array(s_0)\n",
    "    y_0 = tuple([str(i) for i in range(year - l_0, year)])\n",
    "    \n",
    "    data[ratio].plot(kind=kind)\n",
    "    plt.title(ratio)\n",
    "#     plt.ylabel(ratio)\n",
    "#     plt.legend([legend], loc='upper left')\n",
    "    plt.legend([legend])\n",
    "    plt.xticks(x_0, y_0)\n",
    "    plt.grid(color='#95a5a6', linestyle='--', linewidth=1, axis='y',alpha=0.4)\n",
    "    plt.savefig(r'pic/%s.png' % (ratio,))\n",
    "#     plt.show();\n",
    "    return"
   ]
  },
  {
   "cell_type": "code",
   "execution_count": 10,
   "metadata": {
    "collapsed": false
   },
   "outputs": [],
   "source": [
    "# 读取茅台利润表数据\n",
    "data = get_all_data(stock_0)"
   ]
  },
  {
   "cell_type": "code",
   "execution_count": 12,
   "metadata": {
    "collapsed": true
   },
   "outputs": [],
   "source": [
    "# 将年报数据筛选出来\n",
    "data_year = get_data_month(data, 12)"
   ]
  },
  {
   "cell_type": "code",
   "execution_count": 15,
   "metadata": {
    "collapsed": true
   },
   "outputs": [],
   "source": [
    "# 筛选所需数据\n",
    "result = get_data_ratio(data_year)"
   ]
  },
  {
   "cell_type": "code",
   "execution_count": 19,
   "metadata": {
    "collapsed": false
   },
   "outputs": [
    {
     "data": {
      "image/png": "[encoded data removed]",
      "text/plain": [
       "<matplotlib.figure.Figure at 0x22b0bb76198>"
      ]
     },
     "metadata": {},
     "output_type": "display_data"
    }
   ],
   "source": [
    "# 作图并保存\n",
    "data_plot(result, '营业收入')\n",
    "# 图片显示出来\n",
    "plt.show()"
   ]
  },
  {
   "cell_type": "code",
   "execution_count": 20,
   "metadata": {
    "collapsed": false
   },
   "outputs": [
    {
     "data": {
      "image/png": "[encoded data removed]",
      "text/plain": [
       "<matplotlib.figure.Figure at 0x22b0c147e48>"
      ]
     },
     "metadata": {},
     "output_type": "display_data"
    }
   ],
   "source": [
    "# 作图并保存\n",
    "data_plot(result, '归母净利润')\n",
    "# 图片显示出来\n",
    "plt.show()"
   ]
  }
 ],
 "metadata": {
  "hide_input": false,
  "kernelspec": {
   "display_name": "Python 3",
   "language": "python",
   "name": "python3"
  },
  "language_info": {
   "codemirror_mode": {
    "name": "ipython",
    "version": 3.0
   },
   "file_extension": ".py",
   "mimetype": "text/x-python",
   "name": "python",
   "nbconvert_exporter": "python",
   "pygments_lexer": "ipython3",
   "version": "3.6.0"
  },
  "toc": {
   "colors": {
    "hover_highlight": "#DAA520",
    "navigate_num": "#000000",
    "navigate_text": "#333333",
    "running_highlight": "#FF0000",
    "selected_highlight": "#FFD700",
    "sidebar_border": "#EEEEEE",
    "wrapper_background": "#FFFFFF"
   },
   "moveMenuLeft": true,
   "nav_menu": {
    "height": "12px",
    "width": "252px"
   },
   "navigate_menu": true,
   "number_sections": true,
   "sideBar": true,
   "threshold": 4.0,
   "toc_cell": false,
   "toc_section_display": "block",
   "toc_window_display": false,
   "widenNotebook": false
  }
 },
 "nbformat": 4,
 "nbformat_minor": 0
}