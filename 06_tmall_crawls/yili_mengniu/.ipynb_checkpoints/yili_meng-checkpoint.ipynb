{
 "cells": [
  {
   "cell_type": "code",
   "execution_count": 3,
   "metadata": {
    "collapsed": true
   },
   "outputs": [],
   "source": [
    "# coding: utf-8\n",
    "import requests\n",
    "from bs4 import BeautifulSoup\n",
    "import time\n",
    "import csv, codecs\n",
    "from tqdm import tqdm"
   ]
  },
  {
   "cell_type": "code",
   "execution_count": 4,
   "metadata": {
    "collapsed": true
   },
   "outputs": [],
   "source": [
    "yili_tmall_url = 'https://yili.tmall.com/i/asynSearch.htm?_ksTS=1502629222912_430&callback=jsonp431&mid=w-15521111965-0&wid=15521111965&path=/search.htm&search=y&spm=a1z10.1-b-s.w14191084-15521286924.2.35554cfcU32gQM&scene=taobao_shop'\n",
    "mengniu_tmall_url = 'https://mengniusp.tmall.com/i/asynSearch.htm?_ksTS=1502632364116_364&callback=jsonp365&mid=w-14719154061-0&wid=14719154061&path=/search.htm&search=y&spm=a1z10.1-b-s.w10195673-14719154007.6.tpgREO&orderType=null&viewType=grid&keyword=null&lowPrice=null&highPrice=null'\n",
    "headers = {\n",
    "    'User-Agent': 'Mozilla/5.0'\n",
    "}\n",
    "data_date = time.strftime('%Y-%m-%d',time.localtime(time.time()))"
   ]
  },
  {
   "cell_type": "code",
   "execution_count": 5,
   "metadata": {
    "collapsed": true
   },
   "outputs": [],
   "source": [
    "def get_page(url):\n",
    "    r = requests.get(url, headers=headers)\n",
    "    soup = BeautifulSoup(r.text, 'lxml')\n",
    "    contents = soup.find_all('dd')\n",
    "    data = set()\n",
    "    for i in tqdm(contents):\n",
    "        try:\n",
    "            title = i.find('a').string.strip()\n",
    "            prices = i.find('div')\n",
    "            price_ = prices.find_all('span')\n",
    "            price = price_[1].string.strip()\n",
    "            sell_count = price_[2].string.strip()\n",
    "            product_info = (data_date, title, price, sell_count)\n",
    "            data.add(product_info)\n",
    "        except:\n",
    "            pass\n",
    "    return data"
   ]
  },
  {
   "cell_type": "code",
   "execution_count": 6,
   "metadata": {
    "collapsed": true
   },
   "outputs": [],
   "source": [
    "def save_data(name, data):\n",
    "    with open('%s_tmall.csv' % (name), 'a', newline='', encoding='utf_8_sig') as f:\n",
    "        csv_file = csv.writer(f, dialect='excel')\n",
    "        for i in tqdm(data):\n",
    "            csv_file.writerow(i)\n",
    "    return   "
   ]
  },
  {
   "cell_type": "code",
   "execution_count": 7,
   "metadata": {
    "collapsed": false
   },
   "outputs": [
    {
     "name": "stderr",
     "output_type": "stream",
     "text": [
      "100%|██████████████████████████████████████| 180/180 [00:00<00:00, 8564.47it/s]\n",
      "100%|███████████████████████████████████████| 86/86 [00:00<00:00, 85903.82it/s]\n",
      "100%|██████████████████████████████████████| 108/108 [00:00<00:00, 5138.97it/s]\n",
      "100%|███████████████████████████████████████| 49/49 [00:00<00:00, 48968.52it/s]\n"
     ]
    }
   ],
   "source": [
    "if __name__ == '__main__':\n",
    "    data = get_page(yili_tmall_url)\n",
    "    save_data('yili', data)\n",
    "    data = get_page(mengniu_tmall_url)\n",
    "    save_data('mengniu', data)"
   ]
  },
  {
   "cell_type": "code",
   "execution_count": null,
   "metadata": {
    "collapsed": true
   },
   "outputs": [],
   "source": []
  }
 ],
 "metadata": {
  "hide_input": false,
  "kernelspec": {
   "display_name": "Python 3",
   "language": "python",
   "name": "python3"
  },
  "language_info": {
   "codemirror_mode": {
    "name": "ipython",
    "version": 3
   },
   "file_extension": ".py",
   "mimetype": "text/x-python",
   "name": "python",
   "nbconvert_exporter": "python",
   "pygments_lexer": "ipython3",
   "version": "3.6.0"
  },
  "toc": {
   "colors": {
    "hover_highlight": "#DAA520",
    "navigate_num": "#000000",
    "navigate_text": "#333333",
    "running_highlight": "#FF0000",
    "selected_highlight": "#FFD700",
    "sidebar_border": "#EEEEEE",
    "wrapper_background": "#FFFFFF"
   },
   "moveMenuLeft": true,
   "nav_menu": {
    "height": "12px",
    "width": "252px"
   },
   "navigate_menu": true,
   "number_sections": true,
   "sideBar": true,
   "threshold": 4,
   "toc_cell": false,
   "toc_section_display": "block",
   "toc_window_display": false,
   "widenNotebook": false
  }
 },
 "nbformat": 4,
 "nbformat_minor": 2
}
